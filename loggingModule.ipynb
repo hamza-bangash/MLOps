{
 "cells": [
  {
   "cell_type": "markdown",
   "id": "41f0935e",
   "metadata": {},
   "source": [
    "# **logging**"
   ]
  },
  {
   "cell_type": "markdown",
   "id": "539500fe",
   "metadata": {},
   "source": [
    "The logging module in Python is a built-in library that provides a flexible way to record messages from your program.\n",
    "It is used to track events, errors, and flow of execution in your program, instead of just using print()"
   ]
  },
  {
   "cell_type": "markdown",
   "id": "243562ca",
   "metadata": {},
   "source": [
    "## Handler"
   ]
  },
  {
   "cell_type": "markdown",
   "id": "7f955356",
   "metadata": {},
   "source": [
    "A Handler decides where your log messages go.\n",
    "\n",
    "It receives messages from the logger and sends them to a destination.\n",
    "\n",
    "You can have multiple handlers for the same logger.\n",
    "\n",
    "**There are two types**\n",
    "\n",
    "    1.StreamHandler\tSends logs to the console/screen\n",
    "    2.FileHandler \tSends logs to a file"
   ]
  },
  {
   "cell_type": "markdown",
   "id": "6741ee6f",
   "metadata": {},
   "source": [
    "## Formart"
   ]
  },
  {
   "cell_type": "markdown",
   "id": "8a149298",
   "metadata": {},
   "source": [
    "A Formatter controls how your log messages look the layout, style, and information included.\n",
    "\n",
    "It decides what details appear in the log (time, level, message, logger name, etc.).\n",
    "\n",
    "You attach a Formatter to a Handler, not directly to the Logger."
   ]
  },
  {
   "cell_type": "markdown",
   "id": "33fef59b",
   "metadata": {},
   "source": [
    "## Logging Levels"
   ]
  },
  {
   "cell_type": "markdown",
   "id": "c6fbc57f",
   "metadata": {},
   "source": [
    "A Level in logging defines the importance or severity of a log message.\n",
    "\n",
    "Only messages equal to or above the logger/handler level will be shown.\n",
    "\n",
    "Helps filter messages depending on how critical they are.\n",
    "\n",
    "    DEBUG\t\tDetailed info, used for debugging\n",
    "    INFO\t\tGeneral information about program execution\n",
    "    WARNING\t\tSomething unexpected happened, but program still works\n",
    "    ERROR\t\tSerious problem, part of the program may fail\n",
    "    CRITICAL\tVery serious error, program may crash"
   ]
  },
  {
   "cell_type": "markdown",
   "id": "bb212742",
   "metadata": {},
   "source": [
    "![logging](images/logging.png)"
   ]
  },
  {
   "cell_type": "markdown",
   "id": "e8caaeb1",
   "metadata": {},
   "source": [
    "## Complete WorkFlow "
   ]
  },
  {
   "cell_type": "code",
   "execution_count": null,
   "id": "89980d99",
   "metadata": {
    "vscode": {
     "languageId": "plaintext"
    }
   },
   "outputs": [],
   "source": [
    "import logging\n",
    "\n",
    "# 1. create logger\n",
    "logger = logging.getLogger(\"my_app\")\n",
    "logger.setLevel(logging.DEBUG)\n",
    "\n",
    "# 2. create handlers\n",
    "console_handler = logging.StreamHandler()\n",
    "file_handler = logging.FileHandler(\"app.log\")\n",
    "\n",
    "# 3. set levels for handlers\n",
    "console_handler.setLevel(logging.INFO)\n",
    "file_handler.setLevel(logging.DEBUG)\n",
    "\n",
    "# 4. create formatter\n",
    "formatter = logging.Formatter(\"%(asctime)s - %(name)s - %(levelname)s - %(message)s\")\n",
    "\n",
    "# 5. attach formatter to handlers\n",
    "console_handler.setFormatter(formatter)\n",
    "file_handler.setFormatter(formatter)\n",
    "\n",
    "# 6. attach handlers to logger\n",
    "logger.addHandler(console_handler)\n",
    "logger.addHandler(file_handler)\n",
    "\n",
    "# test logs\n",
    "logger.debug(\"This is a debug message (goes only to file)\")\n",
    "logger.info(\"This is an info message (goes to both)\")\n",
    "logger.warning(\"This is a warning\")\n",
    "logger.error(\"This is an error\")\n",
    "logger.critical(\"This is critical\")\n"
   ]
  }
 ],
 "metadata": {
  "language_info": {
   "name": "python"
  }
 },
 "nbformat": 4,
 "nbformat_minor": 5
}
